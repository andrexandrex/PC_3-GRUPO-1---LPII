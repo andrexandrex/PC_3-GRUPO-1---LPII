{
 "cells": [
  {
   "cell_type": "code",
   "execution_count": 51,
   "metadata": {},
   "outputs": [
    {
     "name": "stdout",
     "output_type": "stream",
     "text": [
      "{\"data\":[{\"iso\":\"CHN\",\"name\":\"China\"},{\"iso\":\"TWN\",\"name\":\"Taipei and environs\"},{\"iso\":\"USA\",\"name\":\"US\"},{\"iso\":\"JPN\",\"name\":\"Japan\"},{\"iso\":\"THA\",\"name\":\"Thailand\"},{\"iso\":\"KOR\",\"name\":\"Korea, South\"},{\"iso\":\"SGP\",\"name\":\"Singapore\"},{\"iso\":\"PHL\",\"name\":\"Philippines\"},{\"iso\":\"MYS\",\"name\":\"Malaysia\"},{\"iso\":\"VNM\",\"name\":\"Vietnam\"},{\"iso\":\"AUS\",\"name\":\"Australia\"},{\"iso\":\"MEX\",\"name\":\"Mexico\"},{\"iso\":\"BRA\",\"name\":\"Brazil\"},{\"iso\":\"COL\",\"name\":\"Colombia\"},{\"iso\":\"FRA\",\"name\":\"France\"},{\"iso\":\"NPL\",\"name\":\"Nepal\"},{\"iso\":\"CAN\",\"name\":\"Canada\"},{\"iso\":\"KHM\",\"name\":\"Cambodia\"},{\"iso\":\"LKA\",\"name\":\"Sri Lanka\"},{\"iso\":\"CIV\",\"name\":\"Cote d'Ivoire\"},{\"iso\":\"DEU\",\"name\":\"Germany\"},{\"iso\":\"FIN\",\"name\":\"Finland\"},{\"iso\":\"ARE\",\"name\":\"United Arab Emirates\"},{\"iso\":\"IND\",\"name\":\"India\"},{\"iso\":\"ITA\",\"name\":\"Italy\"},{\"iso\":\"GBR\",\"name\":\"United Kingdom\"},{\"iso\":\"RUS\",\"name\":\"Russia\"},{\"iso\":\"SWE\",\"name\":\"Sweden\"},{\"iso\":\"ESP\",\"name\":\"Spain\"},{\"iso\":\"BEL\",\"name\":\"Belgium\"},{\"iso\":\"Others\",\"name\":\"Others\"},{\"iso\":\"EGY\",\"name\":\"Egypt\"},{\"iso\":\"IRN\",\"name\":\"Iran\"},{\"iso\":\"ISR\",\"name\":\"Israel\"},{\"iso\":\"LBN\",\"name\":\"Lebanon\"},{\"iso\":\"IRQ\",\"name\":\"Iraq\"},{\"iso\":\"OMN\",\"name\":\"Oman\"},{\"iso\":\"AFG\",\"name\":\"Afghanistan\"},{\"iso\":\"BHR\",\"name\":\"Bahrain\"},{\"iso\":\"KWT\",\"name\":\"Kuwait\"},{\"iso\":\"AUT\",\"name\":\"Austria\"},{\"iso\":\"DZA\",\"name\":\"Algeria\"},{\"iso\":\"HRV\",\"name\":\"Croatia\"},{\"iso\":\"CHE\",\"name\":\"Switzerland\"},{\"iso\":\"PAK\",\"name\":\"Pakistan\"},{\"iso\":\"GEO\",\"name\":\"Georgia\"},{\"iso\":\"GRC\",\"name\":\"Greece\"},{\"iso\":\"MKD\",\"name\":\"North Macedonia\"},{\"iso\":\"NOR\",\"name\":\"Norway\"},{\"iso\":\"ROU\",\"name\":\"Romania\"},{\"iso\":\"DNK\",\"name\":\"Denmark\"},{\"iso\":\"EST\",\"name\":\"Estonia\"},{\"iso\":\"NLD\",\"name\":\"Netherlands\"},{\"iso\":\"SMR\",\"name\":\"San Marino\"},{\"iso\":\"AZE\",\"name\":\"Azerbaijan\"},{\"iso\":\"BLR\",\"name\":\"Belarus\"},{\"iso\":\"ISL\",\"name\":\"Iceland\"},{\"iso\":\"LTU\",\"name\":\"Lithuania\"},{\"iso\":\"NZL\",\"name\":\"New Zealand\"},{\"iso\":\"NGA\",\"name\":\"Nigeria\"},{\"iso\":\"IRL\",\"name\":\"Ireland\"},{\"iso\":\"LUX\",\"name\":\"Luxembourg\"},{\"iso\":\"MCO\",\"name\":\"Monaco\"},{\"iso\":\"QAT\",\"name\":\"Qatar\"},{\"iso\":\"ECU\",\"name\":\"Ecuador\"},{\"iso\":\"CZE\",\"name\":\"Czechia\"},{\"iso\":\"ARM\",\"name\":\"Armenia\"},{\"iso\":\"DOM\",\"name\":\"Dominican Republic\"},{\"iso\":\"IDN\",\"name\":\"Indonesia\"},{\"iso\":\"PRT\",\"name\":\"Portugal\"},{\"iso\":\"AND\",\"name\":\"Andorra\"},{\"iso\":\"LVA\",\"name\":\"Latvia\"},{\"iso\":\"MAR\",\"name\":\"Morocco\"},{\"iso\":\"SAU\",\"name\":\"Saudi Arabia\"},{\"iso\":\"SEN\",\"name\":\"Senegal\"},{\"iso\":\"ARG\",\"name\":\"Argentina\"},{\"iso\":\"CHL\",\"name\":\"Chile\"},{\"iso\":\"JOR\",\"name\":\"Jordan\"},{\"iso\":\"UKR\",\"name\":\"Ukraine\"},{\"iso\":\"BLM\",\"name\":\"Saint Barthelemy\"},{\"iso\":\"HUN\",\"name\":\"Hungary\"},{\"iso\":\"FRO\",\"name\":\"Faroe Islands\"},{\"iso\":\"GIB\",\"name\":\"Gibraltar\"},{\"iso\":\"LIE\",\"name\":\"Liechtenstein\"},{\"iso\":\"POL\",\"name\":\"Poland\"},{\"iso\":\"TUN\",\"name\":\"Tunisia\"},{\"iso\":\"PSE\",\"name\":\"West Bank and Gaza\"},{\"iso\":\"BIH\",\"name\":\"Bosnia and Herzegovina\"},{\"iso\":\"SVN\",\"name\":\"Slovenia\"},{\"iso\":\"ZAF\",\"name\":\"South Africa\"},{\"iso\":\"BTN\",\"name\":\"Bhutan\"},{\"iso\":\"CMR\",\"name\":\"Cameroon\"},{\"iso\":\"CRI\",\"name\":\"Costa Rica\"},{\"iso\":\"PER\",\"name\":\"Peru\"},{\"iso\":\"SRB\",\"name\":\"Serbia\"},{\"iso\":\"SVK\",\"name\":\"Slovakia\"},{\"iso\":\"TGO\",\"name\":\"Togo\"},{\"iso\":\"VAT\",\"name\":\"Holy See\"},{\"iso\":\"GUF\",\"name\":\"French Guiana\"},{\"iso\":\"MLT\",\"name\":\"Malta\"},{\"iso\":\"MTQ\",\"name\":\"Martinique\"},{\"iso\":\"BGR\",\"name\":\"Bulgaria\"},{\"iso\":\"MDV\",\"name\":\"Maldives\"},{\"iso\":\"BGD\",\"name\":\"Bangladesh\"},{\"iso\":\"MDA\",\"name\":\"Moldova\"},{\"iso\":\"PRY\",\"name\":\"Paraguay\"},{\"iso\":\"ALB\",\"name\":\"Albania\"},{\"iso\":\"CYP\",\"name\":\"Cyprus\"},{\"iso\":\"BRN\",\"name\":\"Brunei\"},{\"iso\":\"MAC\",\"name\":\"Macao SAR\"},{\"iso\":\"MAF\",\"name\":\"Saint Martin\"},{\"iso\":\"BFA\",\"name\":\"Burkina Faso\"},{\"iso\":\"GGY-JEY\",\"name\":\"Channel Islands\"},{\"iso\":\"MNG\",\"name\":\"Mongolia\"},{\"iso\":\"PAN\",\"name\":\"Panama\"},{\"iso\":\"cruise\",\"name\":\"Cruise Ship\"},{\"iso\":\"TWN\",\"name\":\"Taiwan*\"},{\"iso\":\"BOL\",\"name\":\"Bolivia\"},{\"iso\":\"HND\",\"name\":\"Honduras\"},{\"iso\":\"COD\",\"name\":\"Congo (Kinshasa)\"},{\"iso\":\"JAM\",\"name\":\"Jamaica\"},{\"iso\":\"REU\",\"name\":\"Reunion\"},{\"iso\":\"TUR\",\"name\":\"Turkey\"},{\"iso\":\"CUB\",\"name\":\"Cuba\"},{\"iso\":\"GUY\",\"name\":\"Guyana\"},{\"iso\":\"KAZ\",\"name\":\"Kazakhstan\"},{\"iso\":\"CYM\",\"name\":\"Cayman Islands\"},{\"iso\":\"GLP\",\"name\":\"Guadeloupe\"},{\"iso\":\"ETH\",\"name\":\"Ethiopia\"},{\"iso\":\"SDN\",\"name\":\"Sudan\"},{\"iso\":\"GIN\",\"name\":\"Guinea\"},{\"iso\":\"ATG\",\"name\":\"Antigua and Barbuda\"},{\"iso\":\"ABW\",\"name\":\"Aruba\"},{\"iso\":\"KEN\",\"name\":\"Kenya\"},{\"iso\":\"URY\",\"name\":\"Uruguay\"},{\"iso\":\"GHA\",\"name\":\"Ghana\"},{\"iso\":\"JEY\",\"name\":\"Jersey\"},{\"iso\":\"NAM\",\"name\":\"Namibia\"},{\"iso\":\"SYC\",\"name\":\"Seychelles\"},{\"iso\":\"TTO\",\"name\":\"Trinidad and Tobago\"},{\"iso\":\"VEN\",\"name\":\"Venezuela\"},{\"iso\":\"CUW\",\"name\":\"Curacao\"},{\"iso\":\"SWZ\",\"name\":\"Eswatini\"},{\"iso\":\"GAB\",\"name\":\"Gabon\"},{\"iso\":\"GTM\",\"name\":\"Guatemala\"},{\"iso\":\"GGY\",\"name\":\"Guernsey\"},{\"iso\":\"MRT\",\"name\":\"Mauritania\"},{\"iso\":\"RWA\",\"name\":\"Rwanda\"},{\"iso\":\"LCA\",\"name\":\"Saint Lucia\"},{\"iso\":\"VCT\",\"name\":\"Saint Vincent and the Grenadines\"},{\"iso\":\"SUR\",\"name\":\"Suriname\"},{\"iso\":\"RKS\",\"name\":\"Kosovo\"},{\"iso\":\"CAF\",\"name\":\"Central African Republic\"},{\"iso\":\"COG\",\"name\":\"Congo (Brazzaville)\"},{\"iso\":\"GNQ\",\"name\":\"Equatorial Guinea\"},{\"iso\":\"UZB\",\"name\":\"Uzbekistan\"},{\"iso\":\"GUM\",\"name\":\"Guam\"},{\"iso\":\"PRI\",\"name\":\"Puerto Rico\"},{\"iso\":\"BEN\",\"name\":\"Benin\"},{\"iso\":\"GRL\",\"name\":\"Greenland\"},{\"iso\":\"LBR\",\"name\":\"Liberia\"},{\"iso\":\"MYT\",\"name\":\"Mayotte\"},{\"iso\":\"SOM\",\"name\":\"Somalia\"},{\"iso\":\"TZA\",\"name\":\"Tanzania\"},{\"iso\":\"BHS\",\"name\":\"Bahamas\"},{\"iso\":\"BRB\",\"name\":\"Barbados\"},{\"iso\":\"MNE\",\"name\":\"Montenegro\"},{\"iso\":\"GMB\",\"name\":\"Gambia\"},{\"iso\":\"KGZ\",\"name\":\"Kyrgyzstan\"},{\"iso\":\"MUS\",\"name\":\"Mauritius\"},{\"iso\":\"ZMB\",\"name\":\"Zambia\"},{\"iso\":\"DJI\",\"name\":\"Djibouti\"},{\"iso\":\"TCD\",\"name\":\"Chad\"},{\"iso\":\"SLV\",\"name\":\"El Salvador\"},{\"iso\":\"FJI\",\"name\":\"Fiji\"},{\"iso\":\"NIC\",\"name\":\"Nicaragua\"},{\"iso\":\"MDG\",\"name\":\"Madagascar\"},{\"iso\":\"HTI\",\"name\":\"Haiti\"},{\"iso\":\"AGO\",\"name\":\"Angola\"},{\"iso\":\"CPV\",\"name\":\"Cabo Verde\"},{\"iso\":\"NER\",\"name\":\"Niger\"},{\"iso\":\"PNG\",\"name\":\"Papua New Guinea\"},{\"iso\":\"ZWE\",\"name\":\"Zimbabwe\"},{\"iso\":\"TLS\",\"name\":\"Timor-Leste\"},{\"iso\":\"ERI\",\"name\":\"Eritrea\"},{\"iso\":\"UGA\",\"name\":\"Uganda\"},{\"iso\":\"DMA\",\"name\":\"Dominica\"},{\"iso\":\"GRD\",\"name\":\"Grenada\"},{\"iso\":\"MOZ\",\"name\":\"Mozambique\"},{\"iso\":\"SYR\",\"name\":\"Syria\"},{\"iso\":\"BLZ\",\"name\":\"Belize\"},{\"iso\":\"LAO\",\"name\":\"Laos\"},{\"iso\":\"LBY\",\"name\":\"Libya\"},{\"iso\":\"NA-SHIP-DP\",\"name\":\"Diamond Princess\"},{\"iso\":\"GNB\",\"name\":\"Guinea-Bissau\"},{\"iso\":\"MLI\",\"name\":\"Mali\"},{\"iso\":\"KNA\",\"name\":\"Saint Kitts and Nevis\"},{\"iso\":\"BWA\",\"name\":\"Botswana\"},{\"iso\":\"BDI\",\"name\":\"Burundi\"},{\"iso\":\"SLE\",\"name\":\"Sierra Leone\"},{\"iso\":\"MMR\",\"name\":\"Burma\"},{\"iso\":\"MWI\",\"name\":\"Malawi\"},{\"iso\":\"SSD\",\"name\":\"South Sudan\"},{\"iso\":\"ESH\",\"name\":\"Western Sahara\"},{\"iso\":\"STP\",\"name\":\"Sao Tome and Principe\"},{\"iso\":\"NA-SHIP-MSZ\",\"name\":\"MS Zaandam\"},{\"iso\":\"YEM\",\"name\":\"Yemen\"},{\"iso\":\"COM\",\"name\":\"Comoros\"},{\"iso\":\"TJK\",\"name\":\"Tajikistan\"},{\"iso\":\"LSO\",\"name\":\"Lesotho\"},{\"iso\":\"SLB\",\"name\":\"Solomon Islands\"},{\"iso\":\"MHL\",\"name\":\"Marshall Islands\"},{\"iso\":\"VUT\",\"name\":\"Vanuatu\"},{\"iso\":\"WSM\",\"name\":\"Samoa\"},{\"iso\":\"KIR\",\"name\":\"Kiribati\"},{\"iso\":\"PLW\",\"name\":\"Palau\"},{\"iso\":\"TON\",\"name\":\"Tonga\"},{\"iso\":\"NRU\",\"name\":\"Nauru\"},{\"iso\":\"TUV\",\"name\":\"Tuvalu\"}]}\n"
     ]
    }
   ],
   "source": [
    "import requests\n",
    "\n",
    "url = \"https://covid-19-statistics.p.rapidapi.com/regions\"\n",
    "\n",
    "headers = {\n",
    "\t\"X-RapidAPI-Key\": \"75e6f2eaf6msh1c8c0c7d9dc6d9cp15eb67jsnf082524e4c2a\",\n",
    "\t\"X-RapidAPI-Host\": \"covid-19-statistics.p.rapidapi.com\"\n",
    "}\n",
    "\n",
    "response = requests.request(\"GET\", url, headers=headers)\n",
    "\n",
    "print(response.text)"
   ]
  },
  {
   "cell_type": "code",
   "execution_count": 52,
   "metadata": {},
   "outputs": [],
   "source": [
    "import json\n",
    "data = json.loads(response.text)"
   ]
  },
  {
   "cell_type": "code",
   "execution_count": 53,
   "metadata": {},
   "outputs": [
    {
     "name": "stdout",
     "output_type": "stream",
     "text": [
      "CHN China\n",
      "TWN Taipei and environs\n",
      "USA US\n",
      "JPN Japan\n",
      "THA Thailand\n",
      "KOR Korea, South\n",
      "SGP Singapore\n",
      "PHL Philippines\n",
      "MYS Malaysia\n",
      "VNM Vietnam\n",
      "AUS Australia\n",
      "MEX Mexico\n",
      "BRA Brazil\n",
      "COL Colombia\n",
      "FRA France\n",
      "NPL Nepal\n",
      "CAN Canada\n",
      "KHM Cambodia\n",
      "LKA Sri Lanka\n",
      "CIV Cote d'Ivoire\n",
      "DEU Germany\n",
      "FIN Finland\n",
      "ARE United Arab Emirates\n",
      "IND India\n",
      "ITA Italy\n",
      "GBR United Kingdom\n",
      "RUS Russia\n",
      "SWE Sweden\n",
      "ESP Spain\n",
      "BEL Belgium\n",
      "Others Others\n",
      "EGY Egypt\n",
      "IRN Iran\n",
      "ISR Israel\n",
      "LBN Lebanon\n",
      "IRQ Iraq\n",
      "OMN Oman\n",
      "AFG Afghanistan\n",
      "BHR Bahrain\n",
      "KWT Kuwait\n",
      "AUT Austria\n",
      "DZA Algeria\n",
      "HRV Croatia\n",
      "CHE Switzerland\n",
      "PAK Pakistan\n",
      "GEO Georgia\n",
      "GRC Greece\n",
      "MKD North Macedonia\n",
      "NOR Norway\n",
      "ROU Romania\n",
      "DNK Denmark\n",
      "EST Estonia\n",
      "NLD Netherlands\n",
      "SMR San Marino\n",
      "AZE Azerbaijan\n",
      "BLR Belarus\n",
      "ISL Iceland\n",
      "LTU Lithuania\n",
      "NZL New Zealand\n",
      "NGA Nigeria\n",
      "IRL Ireland\n",
      "LUX Luxembourg\n",
      "MCO Monaco\n",
      "QAT Qatar\n",
      "ECU Ecuador\n",
      "CZE Czechia\n",
      "ARM Armenia\n",
      "DOM Dominican Republic\n",
      "IDN Indonesia\n",
      "PRT Portugal\n",
      "AND Andorra\n",
      "LVA Latvia\n",
      "MAR Morocco\n",
      "SAU Saudi Arabia\n",
      "SEN Senegal\n",
      "ARG Argentina\n",
      "CHL Chile\n",
      "JOR Jordan\n",
      "UKR Ukraine\n",
      "BLM Saint Barthelemy\n",
      "HUN Hungary\n",
      "FRO Faroe Islands\n",
      "GIB Gibraltar\n",
      "LIE Liechtenstein\n",
      "POL Poland\n",
      "TUN Tunisia\n",
      "PSE West Bank and Gaza\n",
      "BIH Bosnia and Herzegovina\n",
      "SVN Slovenia\n",
      "ZAF South Africa\n",
      "BTN Bhutan\n",
      "CMR Cameroon\n",
      "CRI Costa Rica\n",
      "PER Peru\n",
      "SRB Serbia\n",
      "SVK Slovakia\n",
      "TGO Togo\n",
      "VAT Holy See\n",
      "GUF French Guiana\n",
      "MLT Malta\n",
      "MTQ Martinique\n",
      "BGR Bulgaria\n",
      "MDV Maldives\n",
      "BGD Bangladesh\n",
      "MDA Moldova\n",
      "PRY Paraguay\n",
      "ALB Albania\n",
      "CYP Cyprus\n",
      "BRN Brunei\n",
      "MAC Macao SAR\n",
      "MAF Saint Martin\n",
      "BFA Burkina Faso\n",
      "GGY-JEY Channel Islands\n",
      "MNG Mongolia\n",
      "PAN Panama\n",
      "cruise Cruise Ship\n",
      "TWN Taiwan*\n",
      "BOL Bolivia\n",
      "HND Honduras\n",
      "COD Congo (Kinshasa)\n",
      "JAM Jamaica\n",
      "REU Reunion\n",
      "TUR Turkey\n",
      "CUB Cuba\n",
      "GUY Guyana\n",
      "KAZ Kazakhstan\n",
      "CYM Cayman Islands\n",
      "GLP Guadeloupe\n",
      "ETH Ethiopia\n",
      "SDN Sudan\n",
      "GIN Guinea\n",
      "ATG Antigua and Barbuda\n",
      "ABW Aruba\n",
      "KEN Kenya\n",
      "URY Uruguay\n",
      "GHA Ghana\n",
      "JEY Jersey\n",
      "NAM Namibia\n",
      "SYC Seychelles\n",
      "TTO Trinidad and Tobago\n",
      "VEN Venezuela\n",
      "CUW Curacao\n",
      "SWZ Eswatini\n",
      "GAB Gabon\n",
      "GTM Guatemala\n",
      "GGY Guernsey\n",
      "MRT Mauritania\n",
      "RWA Rwanda\n",
      "LCA Saint Lucia\n",
      "VCT Saint Vincent and the Grenadines\n",
      "SUR Suriname\n",
      "RKS Kosovo\n",
      "CAF Central African Republic\n",
      "COG Congo (Brazzaville)\n",
      "GNQ Equatorial Guinea\n",
      "UZB Uzbekistan\n",
      "GUM Guam\n",
      "PRI Puerto Rico\n",
      "BEN Benin\n",
      "GRL Greenland\n",
      "LBR Liberia\n",
      "MYT Mayotte\n",
      "SOM Somalia\n",
      "TZA Tanzania\n",
      "BHS Bahamas\n",
      "BRB Barbados\n",
      "MNE Montenegro\n",
      "GMB Gambia\n",
      "KGZ Kyrgyzstan\n",
      "MUS Mauritius\n",
      "ZMB Zambia\n",
      "DJI Djibouti\n",
      "TCD Chad\n",
      "SLV El Salvador\n",
      "FJI Fiji\n",
      "NIC Nicaragua\n",
      "MDG Madagascar\n",
      "HTI Haiti\n",
      "AGO Angola\n",
      "CPV Cabo Verde\n",
      "NER Niger\n",
      "PNG Papua New Guinea\n",
      "ZWE Zimbabwe\n",
      "TLS Timor-Leste\n",
      "ERI Eritrea\n",
      "UGA Uganda\n",
      "DMA Dominica\n",
      "GRD Grenada\n",
      "MOZ Mozambique\n",
      "SYR Syria\n",
      "BLZ Belize\n",
      "LAO Laos\n",
      "LBY Libya\n",
      "NA-SHIP-DP Diamond Princess\n",
      "GNB Guinea-Bissau\n",
      "MLI Mali\n",
      "KNA Saint Kitts and Nevis\n",
      "BWA Botswana\n",
      "BDI Burundi\n",
      "SLE Sierra Leone\n",
      "MMR Burma\n",
      "MWI Malawi\n",
      "SSD South Sudan\n",
      "ESH Western Sahara\n",
      "STP Sao Tome and Principe\n",
      "NA-SHIP-MSZ MS Zaandam\n",
      "YEM Yemen\n",
      "COM Comoros\n",
      "TJK Tajikistan\n",
      "LSO Lesotho\n",
      "SLB Solomon Islands\n",
      "MHL Marshall Islands\n",
      "VUT Vanuatu\n",
      "WSM Samoa\n",
      "KIR Kiribati\n",
      "PLW Palau\n",
      "TON Tonga\n",
      "NRU Nauru\n",
      "TUV Tuvalu\n"
     ]
    }
   ],
   "source": [
    "for item in data[\"data\"]:\n",
    "    print(item[\"iso\"], item[\"name\"])"
   ]
  },
  {
   "cell_type": "code",
   "execution_count": 78,
   "metadata": {},
   "outputs": [
    {
     "data": {
      "text/plain": [
       "'{\\n    \"data\": {\\n        \"date\": \"2020-02-01\",\\n        \"last_update\": \"2020-02-01 19:53:00\",\\n        \"confirmed\": 12038,\\n        \"confirmed_diff\": 2106,\\n        \"deaths\": 259,\\n        \"deaths_diff\": 46,\\n        \"recovered\": 284,\\n        \"recovered_diff\": 62,\\n        \"active\": 11495,\\n        \"active_diff\": 1998,\\n        \"fatality_rate\": 0.0215\\n    }\\n}'"
      ]
     },
     "execution_count": 78,
     "metadata": {},
     "output_type": "execute_result"
    }
   ],
   "source": [
    "import requests\n",
    "\n",
    "url = \"https://covid-19-statistics.p.rapidapi.com/reports/total\"\n",
    "\n",
    "querystring = {\"date\":\"2020-02-01\"}\n",
    "\n",
    "headers = {\n",
    "\t\"X-RapidAPI-Key\": \"521a9a1cb9mshb2ed089bbc4e3cbp1b8bfbjsn1a39d05b0d58\",\n",
    "\t\"X-RapidAPI-Host\": \"covid-19-statistics.p.rapidapi.com\"\n",
    "}\n",
    "\n",
    "response = requests.request(\"GET\", url, headers=headers, params=querystring)\n",
    "\n",
    "z1 = response.text\n",
    "z1"
   ]
  },
  {
   "cell_type": "code",
   "execution_count": 94,
   "metadata": {},
   "outputs": [],
   "source": [
    "import requests\n",
    "\n",
    "url = \"https://covid-19-statistics.p.rapidapi.com/reports/total\"\n",
    "\n",
    "querystring = {\"date\":\"2020-02-02\"}\n",
    "\n",
    "headers = {\n",
    "\t\"X-RapidAPI-Key\": \"521a9a1cb9mshb2ed089bbc4e3cbp1b8bfbjsn1a39d05b0d58\",\n",
    "\t\"X-RapidAPI-Host\": \"covid-19-statistics.p.rapidapi.com\"\n",
    "}\n",
    "\n",
    "response = requests.request(\"GET\", url, headers=headers, params=querystring)\n",
    "\n",
    "z2 = response\n"
   ]
  },
  {
   "cell_type": "code",
   "execution_count": 95,
   "metadata": {},
   "outputs": [
    {
     "ename": "TypeError",
     "evalue": "the JSON object must be str, bytes or bytearray, not Response",
     "output_type": "error",
     "traceback": [
      "\u001b[1;31m---------------------------------------------------------------------------\u001b[0m",
      "\u001b[1;31mTypeError\u001b[0m                                 Traceback (most recent call last)",
      "\u001b[1;32mUntitled-1.ipynb Cell 6\u001b[0m in \u001b[0;36m<cell line: 1>\u001b[1;34m()\u001b[0m\n\u001b[1;32m----> <a href='vscode-notebook-cell:Untitled-1.ipynb?jupyter-notebook#X12sdW50aXRsZWQ%3D?line=0'>1</a>\u001b[0m data \u001b[39m=\u001b[39m json\u001b[39m.\u001b[39;49mloads(z2)\n\u001b[0;32m      <a href='vscode-notebook-cell:Untitled-1.ipynb?jupyter-notebook#X12sdW50aXRsZWQ%3D?line=1'>2</a>\u001b[0m df \u001b[39m=\u001b[39m pd\u001b[39m.\u001b[39mDataFrame(data[\u001b[39m\"\u001b[39m\u001b[39mdata\u001b[39m\u001b[39m\"\u001b[39m])\n\u001b[0;32m      <a href='vscode-notebook-cell:Untitled-1.ipynb?jupyter-notebook#X12sdW50aXRsZWQ%3D?line=2'>3</a>\u001b[0m \u001b[39mprint\u001b[39m(df)\n",
      "File \u001b[1;32mc:\\Users\\Lenovo\\AppData\\Local\\Programs\\Python\\Python39\\lib\\json\\__init__.py:339\u001b[0m, in \u001b[0;36mloads\u001b[1;34m(s, cls, object_hook, parse_float, parse_int, parse_constant, object_pairs_hook, **kw)\u001b[0m\n\u001b[0;32m    337\u001b[0m \u001b[39melse\u001b[39;00m:\n\u001b[0;32m    338\u001b[0m     \u001b[39mif\u001b[39;00m \u001b[39mnot\u001b[39;00m \u001b[39misinstance\u001b[39m(s, (\u001b[39mbytes\u001b[39m, \u001b[39mbytearray\u001b[39m)):\n\u001b[1;32m--> 339\u001b[0m         \u001b[39mraise\u001b[39;00m \u001b[39mTypeError\u001b[39;00m(\u001b[39mf\u001b[39m\u001b[39m'\u001b[39m\u001b[39mthe JSON object must be str, bytes or bytearray, \u001b[39m\u001b[39m'\u001b[39m\n\u001b[0;32m    340\u001b[0m                         \u001b[39mf\u001b[39m\u001b[39m'\u001b[39m\u001b[39mnot \u001b[39m\u001b[39m{\u001b[39;00ms\u001b[39m.\u001b[39m\u001b[39m__class__\u001b[39m\u001b[39m.\u001b[39m\u001b[39m__name__\u001b[39m\u001b[39m}\u001b[39;00m\u001b[39m'\u001b[39m)\n\u001b[0;32m    341\u001b[0m     s \u001b[39m=\u001b[39m s\u001b[39m.\u001b[39mdecode(detect_encoding(s), \u001b[39m'\u001b[39m\u001b[39msurrogatepass\u001b[39m\u001b[39m'\u001b[39m)\n\u001b[0;32m    343\u001b[0m \u001b[39mif\u001b[39;00m (\u001b[39mcls\u001b[39m \u001b[39mis\u001b[39;00m \u001b[39mNone\u001b[39;00m \u001b[39mand\u001b[39;00m object_hook \u001b[39mis\u001b[39;00m \u001b[39mNone\u001b[39;00m \u001b[39mand\u001b[39;00m\n\u001b[0;32m    344\u001b[0m         parse_int \u001b[39mis\u001b[39;00m \u001b[39mNone\u001b[39;00m \u001b[39mand\u001b[39;00m parse_float \u001b[39mis\u001b[39;00m \u001b[39mNone\u001b[39;00m \u001b[39mand\u001b[39;00m\n\u001b[0;32m    345\u001b[0m         parse_constant \u001b[39mis\u001b[39;00m \u001b[39mNone\u001b[39;00m \u001b[39mand\u001b[39;00m object_pairs_hook \u001b[39mis\u001b[39;00m \u001b[39mNone\u001b[39;00m \u001b[39mand\u001b[39;00m \u001b[39mnot\u001b[39;00m kw):\n",
      "\u001b[1;31mTypeError\u001b[0m: the JSON object must be str, bytes or bytearray, not Response"
     ]
    }
   ],
   "source": [
    "data = json.loads(z2)\n",
    "df = pd.DataFrame(data[\"data\"])\n",
    "print(df)"
   ]
  },
  {
   "cell_type": "code",
   "execution_count": 74,
   "metadata": {},
   "outputs": [
    {
     "data": {
      "text/plain": [
       "requests.models.Response"
      ]
     },
     "execution_count": 74,
     "metadata": {},
     "output_type": "execute_result"
    }
   ],
   "source": [
    "type(z1)"
   ]
  },
  {
   "cell_type": "code",
   "execution_count": 98,
   "metadata": {},
   "outputs": [
    {
     "name": "stdout",
     "output_type": "stream",
     "text": [
      "2020-02-01 2020-02-01 19:53:00\n"
     ]
    }
   ],
   "source": [
    "\n",
    "data = json.loads(response.text)\n",
    "print(data[\"data\"][\"date\"], data[\"data\"][\"last_update\"])\n"
   ]
  },
  {
   "cell_type": "code",
   "execution_count": 100,
   "metadata": {},
   "outputs": [],
   "source": [
    "from datetime import datetime, timedelta\n",
    "import pandas as pd\n",
    "'''\n",
    "for i in range(1000):\n",
    "    querystring = {\"date\":\"2020-04-01\"}\n",
    "    response = requests.request(\"GET\", url, headers=headers, params=querystring)'''\n",
    "df_all = pd.DataFrame()\n",
    "\n",
    "start_date = datetime(2020, 2, 1)\n",
    "end_date = datetime(2020, 12, 31)\n",
    "for i in range(0, 365):\n",
    "    current_date = start_date + timedelta(days=i)\n",
    "    date_string = current_date.strftime(\"%Y-%m-%d\")\n",
    "    querystring = {\"date\": date_string}\n",
    "    response = requests.request(\"GET\", url, headers=headers, params=querystring)\n",
    "    data = response.json()\n",
    "    df = pd.DataFrame(data['data'], index=[0])\n",
    "    df_all = pd.concat([df_all, df])\n",
    "\n"
   ]
  },
  {
   "cell_type": "code",
   "execution_count": 2,
   "metadata": {},
   "outputs": [
    {
     "ename": "NameError",
     "evalue": "name 'df_all' is not defined",
     "output_type": "error",
     "traceback": [
      "\u001b[1;31m---------------------------------------------------------------------------\u001b[0m",
      "\u001b[1;31mNameError\u001b[0m                                 Traceback (most recent call last)",
      "\u001b[1;32mc:\\AndreJuarez1\\Semestre6\\LP2\\PC3\\Extraccion_fechas_covid.ipynb Cell 10\u001b[0m in \u001b[0;36m<cell line: 1>\u001b[1;34m()\u001b[0m\n\u001b[1;32m----> <a href='vscode-notebook-cell:/c%3A/AndreJuarez1/Semestre6/LP2/PC3/Extraccion_fechas_covid.ipynb#X13sZmlsZQ%3D%3D?line=0'>1</a>\u001b[0m df_all\n",
      "\u001b[1;31mNameError\u001b[0m: name 'df_all' is not defined"
     ]
    }
   ],
   "source": [
    "df_all"
   ]
  },
  {
   "cell_type": "code",
   "execution_count": 1,
   "metadata": {},
   "outputs": [
    {
     "ename": "NameError",
     "evalue": "name 'df_all' is not defined",
     "output_type": "error",
     "traceback": [
      "\u001b[1;31m---------------------------------------------------------------------------\u001b[0m",
      "\u001b[1;31mNameError\u001b[0m                                 Traceback (most recent call last)",
      "\u001b[1;32mc:\\AndreJuarez1\\Semestre6\\LP2\\PC3\\Extraccion_fechas_covid.ipynb Cell 11\u001b[0m in \u001b[0;36m<cell line: 1>\u001b[1;34m()\u001b[0m\n\u001b[1;32m----> <a href='vscode-notebook-cell:/c%3A/AndreJuarez1/Semestre6/LP2/PC3/Extraccion_fechas_covid.ipynb#X14sZmlsZQ%3D%3D?line=0'>1</a>\u001b[0m df_all\u001b[39m.\u001b[39mto_csv(\u001b[39m\"\u001b[39m\u001b[39mCOVID_STATISTICS_2020.csv\u001b[39m\u001b[39m\"\u001b[39m,sep\u001b[39m=\u001b[39m\u001b[39m\"\u001b[39m\u001b[39m;\u001b[39m\u001b[39m\"\u001b[39m,index\u001b[39m=\u001b[39m\u001b[39mFalse\u001b[39;00m,encoding\u001b[39m=\u001b[39m\u001b[39m\"\u001b[39m\u001b[39mutf-8\u001b[39m\u001b[39m\"\u001b[39m)\n",
      "\u001b[1;31mNameError\u001b[0m: name 'df_all' is not defined"
     ]
    }
   ],
   "source": [
    "df_all.to_csv(\"COVID_STATISTICS_2020.csv\",sep=\";\",index=False,encoding=\"utf-8\")#GUARDAMOS EL DATAFRAME EN UN ARCHIVO CSV\n"
   ]
  },
  {
   "cell_type": "code",
   "execution_count": 32,
   "metadata": {},
   "outputs": [
    {
     "name": "stdout",
     "output_type": "stream",
     "text": [
      "{'Date': 'Tue, 10 Jan 2023 16:31:12 GMT', 'Content-Type': 'application/json', 'Transfer-Encoding': 'chunked', 'Connection': 'keep-alive', 'Cache-Control': 'no-cache, private', 'X-RateLimit-Limit': '2000', 'X-Cache': 'MISS', 'X-RateLimit-Remaining': '1996', 'Server': 'RapidAPI-1.2.8', 'X-RapidAPI-Version': '1.2.8', 'X-RapidAPI-Region': 'AWS - us-east-1'}\n"
     ]
    }
   ],
   "source": [
    "print(response.headers)"
   ]
  }
 ],
 "metadata": {
  "kernelspec": {
   "display_name": "Python 3",
   "language": "python",
   "name": "python3"
  },
  "language_info": {
   "codemirror_mode": {
    "name": "ipython",
    "version": 3
   },
   "file_extension": ".py",
   "mimetype": "text/x-python",
   "name": "python",
   "nbconvert_exporter": "python",
   "pygments_lexer": "ipython3",
   "version": "3.9.0"
  },
  "orig_nbformat": 4,
  "vscode": {
   "interpreter": {
    "hash": "8f8cf99212f81ad0c4765861267244807ee1c18364846cdce387b28994a977ba"
   }
  }
 },
 "nbformat": 4,
 "nbformat_minor": 2
}
